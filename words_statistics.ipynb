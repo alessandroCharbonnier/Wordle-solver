{
 "cells": [
  {
   "cell_type": "code",
   "execution_count": 1,
   "metadata": {},
   "outputs": [],
   "source": [
    "from tqdm import tqdm\n",
    "import random"
   ]
  },
  {
   "cell_type": "code",
   "execution_count": 2,
   "metadata": {},
   "outputs": [
    {
     "name": "stderr",
     "output_type": "stream",
     "text": [
      "100%|██████████| 12927/12927 [00:00<00:00, 1136182.56it/s]\n"
     ]
    }
   ],
   "source": [
    "with open('./data/5_letters_words.txt', 'rb') as file:\n",
    "    words = file.readlines()\n",
    "\n",
    "cleaned_words = []\n",
    "for word in tqdm(words):\n",
    "    cleaned_words.append(word.decode().replace('\\n', ''))"
   ]
  },
  {
   "cell_type": "code",
   "execution_count": 3,
   "metadata": {},
   "outputs": [],
   "source": [
    "letters = 'abcdefghijklmnopqrstuvwxyz'\n",
    "vowels = 'aeiouy'\n",
    "consonant = ''.join([letter for letter in letters if letter not in vowels])"
   ]
  },
  {
   "cell_type": "code",
   "execution_count": 4,
   "metadata": {},
   "outputs": [],
   "source": [
    "def count_non_duplicate_letters(c, v):\n",
    "    return sum(1 for char in set(c) if char in v)"
   ]
  },
  {
   "cell_type": "code",
   "execution_count": 5,
   "metadata": {},
   "outputs": [],
   "source": [
    "def find_best_starting_word():\n",
    "    best_count = 0\n",
    "    best_word = ''\n",
    "    for word in tqdm(cleaned_words):\n",
    "        n_unique_vowels = count_non_duplicate_letters(word, vowels)\n",
    "        if n_unique_vowels > best_count:\n",
    "            best_count = n_unique_vowels\n",
    "            best_word = word\n",
    "    return best_count, best_word"
   ]
  },
  {
   "cell_type": "code",
   "execution_count": 6,
   "metadata": {},
   "outputs": [
    {
     "name": "stderr",
     "output_type": "stream",
     "text": [
      "100%|██████████| 12927/12927 [00:00<00:00, 399411.91it/s]\n"
     ]
    },
    {
     "data": {
      "text/plain": [
       "'adieu'"
      ]
     },
     "execution_count": 6,
     "metadata": {},
     "output_type": "execute_result"
    }
   ],
   "source": [
    "_, best_word = find_best_starting_word()\n",
    "best_word"
   ]
  },
  {
   "cell_type": "code",
   "execution_count": 20,
   "metadata": {},
   "outputs": [],
   "source": [
    "from typing import List\n",
    "\n",
    "def remove_last_occurrence(word, letter):\n",
    "    index = word.rfind(letter)\n",
    "    if index != -1:\n",
    "        word = word[:index] + word[index+1:]\n",
    "    return word\n",
    "\n",
    "def find_correctly_placed_letters(word_to_find:str, guess:str):\n",
    "    well_placed_letters = ['']*5\n",
    "    for i in range(len(word_to_find)):\n",
    "        well_placed_letters[i] = word_to_find[i] if word_to_find[i] == guess[i] else ''\n",
    "    return well_placed_letters\n",
    "\n",
    "def find_incorrectly_placed_letters(word_to_find:str, guess:str, correctly_placed:List[str]):\n",
    "    # word_to_find_copy = word_to_find[:]\n",
    "    # correctly_placed_copy = correctly_placed[:]\n",
    "\n",
    "    incorrectly_placed_letters = []\n",
    "    # for i, letter in enumerate(guess):\n",
    "    #     if letter in word_to_find_copy:\n",
    "    #         if letter in correctly_placed_copy:\n",
    "    #             correctly_placed_copy.remove(letter)\n",
    "    #         else:\n",
    "    #             incorrectly_placed_letters.append(letter)\n",
    "\n",
    "\n",
    "    for i, letter in enumerate(guess):\n",
    "        if guess[i] != word_to_find[i] and guess[i] in word_to_find:\n",
    "            incorrectly_placed_letters.append(letter)\n",
    "        else:\n",
    "            incorrectly_placed_letters.append('')\n",
    "    return incorrectly_placed_letters\n"
   ]
  },
  {
   "cell_type": "code",
   "execution_count": 21,
   "metadata": {},
   "outputs": [],
   "source": [
    "word_to_find, guess = 'amens', 'ammee'"
   ]
  },
  {
   "cell_type": "code",
   "execution_count": 22,
   "metadata": {},
   "outputs": [
    {
     "data": {
      "text/plain": [
       "['a', 'm', '', '', '']"
      ]
     },
     "execution_count": 22,
     "metadata": {},
     "output_type": "execute_result"
    }
   ],
   "source": [
    "correctly_placed_letters = find_correctly_placed_letters(word_to_find, guess)\n",
    "correctly_placed_letters"
   ]
  },
  {
   "cell_type": "code",
   "execution_count": 23,
   "metadata": {},
   "outputs": [
    {
     "data": {
      "text/plain": [
       "(['', '', 'm', 'e', 'e'], ['a', 'm', '', '', ''])"
      ]
     },
     "execution_count": 23,
     "metadata": {},
     "output_type": "execute_result"
    }
   ],
   "source": [
    "find_incorrectly_placed_letters(word_to_find, guess, correctly_placed_letters), correctly_placed_letters"
   ]
  },
  {
   "cell_type": "code",
   "execution_count": 24,
   "metadata": {},
   "outputs": [],
   "source": [
    "import pandas as pd\n",
    "from collections import Counter\n",
    "\n",
    "def calc_distrib(words__):\n",
    "    positions = {i: [] for i in range(5)}\n",
    "    for word in words__:\n",
    "        for i, letter in enumerate(word):\n",
    "            positions[i].append(letter)\n",
    "\n",
    "    # Calculate frequency for each position\n",
    "    frequency = {i: Counter(positions[i]) for i in range(5)}\n",
    "\n",
    "    # Create a DataFrame for easier plotting\n",
    "    return pd.DataFrame(frequency).fillna(0).astype(int) / len(words__)\n",
    "\n",
    "def find_best_word_from_distrib(df, words):\n",
    "    best_ = words[0]\n",
    "    best__ = 0\n",
    "    for word in words:\n",
    "        ss= 1\n",
    "        for i, l in enumerate(word):\n",
    "            ss *= df[i][l]\n",
    "        if len(set(word)) != 5:\n",
    "            ss *= 0.5\n",
    "        if ss >= best__:\n",
    "            best_ = word\n",
    "            best__ = ss\n",
    "    return best_"
   ]
  },
  {
   "cell_type": "code",
   "execution_count": 25,
   "metadata": {},
   "outputs": [],
   "source": [
    "from termcolor import colored"
   ]
  },
  {
   "cell_type": "code",
   "execution_count": 26,
   "metadata": {},
   "outputs": [],
   "source": [
    "list_well_placed_letters = []\n",
    "list_incorrectly_placed_letters = []\n",
    "list_non_present_letters = set()\n",
    "\n",
    "def wordle(word_to_find:str, guess:str, verbose:bool):\n",
    "    \n",
    "\n",
    "    correctly_placed_letters = find_correctly_placed_letters(word_to_find, guess)\n",
    "    list_well_placed_letters.append(correctly_placed_letters)\n",
    "\n",
    "    incorrectly_placed_letters = find_incorrectly_placed_letters(word_to_find, guess, correctly_placed_letters)\n",
    "    list_incorrectly_placed_letters.append(incorrectly_placed_letters)\n",
    "\n",
    "    if verbose:\n",
    "        print('testing : ', end='')\n",
    "\n",
    "        for i, letter in enumerate(guess):\n",
    "            if word_to_find[i] == guess[i]:\n",
    "                print(colored(letter, 'green'), end='')\n",
    "            elif guess[i] in word_to_find:\n",
    "                print(colored(letter, 'yellow'), end='')\n",
    "            else:\n",
    "                print(letter, end='')\n",
    "        print('\\n', end='')\n",
    "\n",
    "\n",
    "\n",
    "    for letter in guess:\n",
    "        if not (letter in word_to_find):\n",
    "            list_non_present_letters.add(letter)\n",
    "    \n",
    "    return word_to_find == guess"
   ]
  },
  {
   "cell_type": "code",
   "execution_count": 42,
   "metadata": {},
   "outputs": [],
   "source": [
    "def filter_words(words_list:List[str], list_well_placed_letters_, list_incorrectly_placed_letters_, list_non_present_letters_):\n",
    "    # non present letters\n",
    "    words_left = [word for word in words_list if all(char not in list_non_present_letters_ for char in word)]\n",
    "\n",
    "    # incorrectly placed letter\n",
    "    for guess in list_incorrectly_placed_letters_:\n",
    "        for i, letter in enumerate(guess):\n",
    "            for word in reversed(words_left):\n",
    "                if letter and ((not (letter in word)) or (letter == word[i])):\n",
    "                    words_left.remove(word)\n",
    "                    continue\n",
    "\n",
    "    \n",
    "    # well placed letters\n",
    "    for guess in list_well_placed_letters_:\n",
    "        for i in range(len(guess)):\n",
    "            if not guess[i]:\n",
    "                continue\n",
    "            for word in reversed(words_left):\n",
    "                if guess[i] != word[i]:\n",
    "                    words_left.remove(word)\n",
    "                    continue\n",
    "    return words_left\n",
    "\n",
    "\n",
    "def wordle_solver(verbose=True):\n",
    "    i=0\n",
    "    win = False\n",
    "    words_left = cleaned_words[:]\n",
    "    word_to_find = random.choice(cleaned_words)\n",
    "    # win = wordle(word_to_find=word_to_find, guess='cares')\n",
    "\n",
    "    if verbose:\n",
    "        print('Finding : ' + word_to_find)\n",
    "    # print(list_well_placed_letters, list_incorrectly_placed_letters, list_non_present_letters)\n",
    "    # words_left = filter_words(cleaned_words, list_well_placed_letters, list_incorrectly_placed_letters, list_non_present_letters)\n",
    "    c = True\n",
    "    while c and not win and i < 6:\n",
    "        i+=1\n",
    "        try:\n",
    "            w = find_best_word_from_distrib(calc_distrib(words_left), words_left)\n",
    "            win = wordle(word_to_find=word_to_find, guess=w, verbose=verbose)\n",
    "            words_left.remove(w)\n",
    "            # print(list_well_placed_letters, list_incorrectly_placed_letters, list_non_present_letters)\n",
    "            words_left = filter_words(words_left, list_well_placed_letters, list_incorrectly_placed_letters, list_non_present_letters)\n",
    "            # print( list_incorrectly_placed_letters)\n",
    "        except KeyboardInterrupt as e:\n",
    "            c = False\n",
    "    return i\n"
   ]
  },
  {
   "cell_type": "code",
   "execution_count": 69,
   "metadata": {},
   "outputs": [
    {
     "name": "stdout",
     "output_type": "stream",
     "text": [
      "Finding : named\n",
      "testing : c\u001b[32ma\u001b[0mr\u001b[32me\u001b[0ms\n",
      "testing : p\u001b[32ma\u001b[0ml\u001b[32me\u001b[0m\u001b[32md\u001b[0m\n",
      "testing : f\u001b[32ma\u001b[0mz\u001b[32me\u001b[0m\u001b[32md\u001b[0m\n",
      "testing : w\u001b[32ma\u001b[0m\u001b[33mn\u001b[0m\u001b[32me\u001b[0m\u001b[32md\u001b[0m\n",
      "testing : \u001b[32mn\u001b[0m\u001b[32ma\u001b[0m\u001b[32mm\u001b[0m\u001b[32me\u001b[0m\u001b[32md\u001b[0m\n"
     ]
    },
    {
     "data": {
      "text/plain": [
       "5"
      ]
     },
     "execution_count": 69,
     "metadata": {},
     "output_type": "execute_result"
    }
   ],
   "source": [
    "list_well_placed_letters = []\n",
    "list_incorrectly_placed_letters = []\n",
    "list_non_present_letters = set()\n",
    "wordle_solver()"
   ]
  },
  {
   "cell_type": "code",
   "execution_count": 61,
   "metadata": {},
   "outputs": [
    {
     "name": "stderr",
     "output_type": "stream",
     "text": [
      "100%|██████████| 1000/1000 [10:48<00:00,  1.54it/s]"
     ]
    },
    {
     "name": "stdout",
     "output_type": "stream",
     "text": [
      "4.521\n"
     ]
    },
    {
     "name": "stderr",
     "output_type": "stream",
     "text": [
      "\n"
     ]
    }
   ],
   "source": [
    "rates = []\n",
    "n_tests = 1000\n",
    "for i in tqdm(range(n_tests)):\n",
    "    list_well_placed_letters = []\n",
    "    list_incorrectly_placed_letters = []\n",
    "    list_non_present_letters = set()\n",
    "    rates.append(wordle_solver(verbose=False))\n",
    "print(sum(rates)/n_tests)"
   ]
  },
  {
   "cell_type": "code",
   "execution_count": 120,
   "metadata": {},
   "outputs": [
    {
     "data": {
      "image/png": "[encoded data removed]",
      "text/plain": [
       "<Figure size 1000x600 with 1 Axes>"
      ]
     },
     "metadata": {},
     "output_type": "display_data"
    }
   ],
   "source": [
    "import matplotlib.pyplot as plt\n",
    "import pandas as pd\n",
    "from collections import Counter\n",
    "\n",
    "words__ = cleaned_words\n",
    "\n",
    "# Count the letters at each position\n",
    "positions = {i: [] for i in range(5)}\n",
    "for word in words__:\n",
    "    for i, letter in enumerate(word):\n",
    "        positions[i].append(letter)\n",
    "\n",
    "# Calculate frequency for each position\n",
    "frequency = {i: Counter(positions[i]) for i in range(5)}\n",
    "\n",
    "# Create a DataFrame for easier plotting\n",
    "df = pd.DataFrame(frequency).fillna(0).astype(int) / len(words__)\n",
    "\n",
    "# Plot the data\n",
    "df.plot(kind='bar', figsize=(10, 6), colormap='viridis')\n",
    "plt.title(\"Letter Distribution at Positions 1 to 5\")\n",
    "plt.xlabel(\"Letters\")\n",
    "plt.ylabel(\"Frequency\")\n",
    "plt.legend([f\"Position {i+1}\" for i in range(5)], title=\"Position\")\n",
    "plt.show()"
   ]
  }
 ],
 "metadata": {
  "kernelspec": {
   "display_name": "data10",
   "language": "python",
   "name": "python3"
  },
  "language_info": {
   "codemirror_mode": {
    "name": "ipython",
    "version": 3
   },
   "file_extension": ".py",
   "mimetype": "text/x-python",
   "name": "python",
   "nbconvert_exporter": "python",
   "pygments_lexer": "ipython3",
   "version": "3.10.14"
  }
 },
 "nbformat": 4,
 "nbformat_minor": 2
}
